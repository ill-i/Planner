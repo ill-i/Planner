{
 "cells": [
  {
   "cell_type": "markdown",
   "metadata": {},
   "source": [
    "# Schedule for one night with respect to objects priority."
   ]
  },
  {
   "cell_type": "markdown",
   "metadata": {},
   "source": [
    "## Libraries"
   ]
  },
  {
   "cell_type": "code",
   "execution_count": null,
   "metadata": {},
   "outputs": [],
   "source": [
    "#setting up the libraries and packages to work with\n",
    "import numpy as np #here we abbreviate \"numpy\" as \"np\" because we will use it with its commands like \"np.command\"\n",
    "import pandas as pd\n",
    "from pandas_ods_reader import read_ods\n",
    "from astropy.time import Time\n",
    "# import astroplan\n",
    "from astroplan import Observer\n",
    "from astropy.coordinates import EarthLocation\n",
    "from astropy.table import Table\n",
    "from astropy.coordinates import SkyCoord\n",
    "import astropy.units as u\n",
    "from pytz import timezone\n",
    "from tabulate import tabulate\n",
    "\n",
    "from astropy.utils.iers import conf\n",
    "conf.auto_max_age = None"
   ]
  },
  {
   "cell_type": "markdown",
   "metadata": {},
   "source": [
    "## Constant part"
   ]
  },
  {
   "cell_type": "markdown",
   "metadata": {},
   "source": [
    "### Location"
   ]
  },
  {
   "cell_type": "code",
   "execution_count": null,
   "metadata": {},
   "outputs": [],
   "source": [
    "longitude_tshao = '76d58m17.00s'\n",
    "latitude_tshao = '43d03m29.00s'\n",
    "elevation_tshao = 2735 * u.m\n",
    "location_tshao = EarthLocation.from_geodetic(longitude_tshao, latitude_tshao, elevation_tshao)\n",
    "\n",
    "tshao = Observer(name='tshao',\n",
    "               location=location_tshao,\n",
    "               pressure=0.615 * u.bar,\n",
    "               relative_humidity=0.7,\n",
    "               temperature=0 * u.deg_C,\n",
    "               timezone=timezone('Asia/Almaty'),\n",
    "               description=\"Tien Shan Astronomical Observatory, Kazaknstan\")\n",
    "# constraints = [AltitudeConstraint(18*u.deg, 80*u.deg), AirmassConstraint(max=3), AtNightConstraint.twilight_astronomical()]\n",
    "lambd = (76+58/60+17/3600)*24/360\n",
    "phi = (43 + 3/60 + 23/3600)*u.degree"
   ]
  },
  {
   "cell_type": "markdown",
   "metadata": {},
   "source": [
    "### Tech time"
   ]
  },
  {
   "cell_type": "code",
   "execution_count": null,
   "metadata": {},
   "outputs": [],
   "source": [
    "# Read-out time\n",
    "readout_1bin = 20 * u.second\n",
    "readout_2bin = 14 * u.second\n",
    "readout_3bin = 10 * u.second\n",
    "\n",
    "# Filter block turn time\n",
    "fil_turn_near = 5 * u.second\n",
    "fil_turn_far = 10 * u.second\n",
    "\n",
    "# Telescope turning speed\n",
    "slew_rate = .8*u.deg/u.second "
   ]
  },
  {
   "cell_type": "markdown",
   "metadata": {},
   "source": [
    "### Functions"
   ]
  },
  {
   "cell_type": "code",
   "execution_count": null,
   "metadata": {
    "tags": []
   },
   "outputs": [],
   "source": [
    "def sunset_rise_time(date):\n",
    "    \n",
    "    \"\"\"\n",
    "    Calculate sunset and surise time (astronomical twilight). \n",
    "    Also, calculate observation start and end SIDEREAL time    \n",
    "    \"\"\"\n",
    "    \n",
    "    # Sidereal time at midnight of the date\n",
    "    \n",
    "    JD1 = date.jd     #date in JD to future calculations\n",
    "    T2_0 = (JD1 - 2433282.5) / 36524.2    #date in fraction of 100 years\n",
    "    S0_2_0 = (6 + (40 / 60) + ((18.130 / 60) / 60)) + (8640184.635 /60 / 60 * T2_0) + (((0.0929 / 60) / 60) * T2_0**2) #sidereal time in Greenwich in UT midnight\n",
    "    S0_2_0 = S0_2_0 % 24 #to account for only 24 hours in a day\n",
    "    s_0 = S0_2_0 + lambd #local sidereal time in UT midnight\n",
    "    s_0 = s_0%24 #to account for only 24 hours in a day\n",
    "    sid_h_0 = s_0 - 6 #local sidereal time in local midnight\n",
    "\n",
    "    #Sunset and sunrise local time and delta (midnight - SSLT, SRLT - midnight) \n",
    "\n",
    "    sunset_tonight = tshao.sun_set_time(date,  horizon = -18*u.degree, which='nearest') #+ 6*u.hour\n",
    "    delta_set = (JD1 - (sunset_tonight+6*u.hour).value) * 24 #+ 6*u.hour because before we calculated time in UT, but now we need local\n",
    "\n",
    "    sunrise_tonight = tshao.sun_rise_time(date,  horizon = -18*u.degree, which='nearest')  #+ 6*u.hour\n",
    "    delta_rise = ((sunrise_tonight+6*u.hour).value - JD1) * 24 #+ 6*u.hour because before we calculated time in UT, but now we need local\n",
    "\n",
    "    #Sunset and sunrise local sidereal time (same with strart and end of observation)\n",
    "\n",
    "    sid_start = (sid_h_0 - delta_set)%24\n",
    "    sid_end = (sid_h_0 + delta_rise) % 24\n",
    "    \n",
    "    time_range = [sunset_tonight, sunrise_tonight]\n",
    "\n",
    "    return sunset_tonight, sunrise_tonight, sid_start, sid_end, time_range, sid_h_0\n",
    "\n",
    "\n",
    "def target_obs_list(sid_start,sid_end):    \n",
    "    \n",
    "    \"\"\"\n",
    "    Check if RA of an object is in interval [sid_start,sid_end]. \n",
    "    In other words, could we observe an object culmination at night.\n",
    "    Here we should respect Declanation, because some objects may be unvisible in our location.\n",
    "    Moreovere, we can observe object 1 hour before and after culmination, so it is necessary to take into account.\n",
    "    \"\"\"\n",
    "    \n",
    "    names = [] #we should create list with obj names because we will write each object once. \n",
    "    alt = []\n",
    "    \n",
    "    for index in range(0,len(data_dec['RA'])):\n",
    "        if data_dec['DEC'][index] > -30:\n",
    "            \n",
    "            h_ind = 90*u.degree + phi - data_dec['DEC'][index]*u.degree\n",
    "            if h_ind > 90*u.degree:\n",
    "                h_ind = 180*u.degree - h_ind\n",
    "                \n",
    "            if h_ind > 18*u.degree and h_ind < 80*u.degree: #if < 18, then airmass > 3\n",
    "                ra_h = data_dec['RA'][index] * 24 / 360\n",
    "                if sid_start < sid_end:\n",
    "                    if (ra_h > sid_start and ra_h < sid_end): \n",
    "                        if data_dec['name'][index] not in names:\n",
    "                            names.append(data_dec['name'][index])\n",
    "                            alt.append(h_ind)\n",
    "                else:\n",
    "                    if (ra_h < sid_end or ra_h > sid_start):\n",
    "                        if data_dec['name'][index] not in names:\n",
    "                                names.append(data_dec['name'][index])\n",
    "                                alt.append(h_ind)\n",
    "            elif h_ind < 18*u.degree:\n",
    "                continue\n",
    "            \n",
    "    return names, alt\n",
    "\n",
    "\n",
    "def parking_coordinates(phi,date):\n",
    "\n",
    "    \"\"\"\n",
    "    Find equatorial coordinates (RA,DEC) of telescope parking point.\n",
    "    As we know, telescopes are parked usually on the South and paralell to the graund.\n",
    "    So we have horizontal coordinates: azimut A = 270 deg and height  h = 0 deg.\n",
    "    We need only two variable: lattitude of observatory (phi) and date of observations.\n",
    "    \"\"\"\n",
    "    \n",
    "    A = 180*u.degree\n",
    "    z = 0*u.degree\n",
    "\n",
    "    delta_rad = np.arcsin(np.sin(phi) * np.cos(z) - np.cos(phi) * np.sin(z) * np.cos(A))#* 360 / (2 * 3.14159265)\n",
    "    parking_delta_deg = delta_rad.to(u.degree)\n",
    "\n",
    "    sunset = tshao.sun_set_time(date,  horizon = -18*u.degree, which='nearest')\n",
    "    JD2 = sunset.jd #date in JD to future calculations\n",
    "    T = (JD2 - 2433282.5) / 36524.2    #date in fraction of 100 years\n",
    "    S0 = (6 + (40 / 60) + ((18.130 / 60) / 60)) + (8640184.635 /60 / 60 * T) + (((0.0929 / 60) / 60) * T**2) #sidereal time in Greenwich in UT \n",
    "    S0 = S0 % 24 #to account for only 24 hours in a day\n",
    "    s = S0 + lambd #UT sidereal time in local area \n",
    "    s = s%24 #to account for only 24 hours in a day\n",
    "    sid_h = s - 6 #local sidereal time in local area\n",
    "    parking_alpha_deg = s * 360 / 24\n",
    "    \n",
    "    a_h = int(parking_alpha_deg * 24 / 360)\n",
    "    a_m = int((parking_alpha_deg * 24 / 360 - a_h) * 60)\n",
    "    a_s = round(((parking_alpha_deg * 24 / 360 - a_h) * 60 - a_m)*60,2)\n",
    "    parking_alpha_hms = f'{a_h} {a_m} {a_s}'\n",
    "\n",
    "    d_d = int(parking_delta_deg.value)\n",
    "    d_m = int((parking_delta_deg.value - d_d) * 60)\n",
    "    d_s = round(((parking_delta_deg.value - d_d) * 60 - d_m) * 60,2)\n",
    "    parking_dec_dms = f'{d_d} {d_m} {d_s}'\n",
    "    \n",
    "    return parking_alpha_deg, parking_delta_deg, parking_alpha_hms, parking_dec_dms\n",
    "\n",
    "\n",
    "def slew_time(ra_1,dec_1,ra_2,dec_2):\n",
    "    \n",
    "    \"\"\"\n",
    "    Find time to target the object from previous one.\n",
    "    \"\"\"\n",
    "    ra_1 = ra_1*u.degree\n",
    "    dec_1 = dec_1*u.degree\n",
    "    ra_2 = ra_2*u.degree\n",
    "    dec_2 = dec_2*u.degree\n",
    "    \n",
    "    dist = (np.arccos(np.sin(dec_1) * np.sin(dec_2) + np.cos(dec_1) * np.cos(dec_2) * np.cos(ra_1 - ra_2))).to(u.degree)\n",
    "    slew_time = (dist / slew_rate).to_value() * u.second\n",
    "    \n",
    "    return slew_time\n",
    "\n",
    "def time_calculation(table):\n",
    "    \n",
    "    \"\"\"\n",
    "    Colculation of each object start, end, culmination and whole observation time.\n",
    "    \"\"\"\n",
    "    \n",
    "    culmination_time = []\n",
    "    obj_start = []\n",
    "    obj_end = []\n",
    "    delta_time = []\n",
    "    time_observ = []\n",
    "\n",
    "    for ind in range(1,len(df)):\n",
    "        \n",
    "        ra = df['ra'][ind]\n",
    "        ra_0 = str(ra).split(' ')\n",
    "        ra_h = float(ra_0[0]) + float(ra_0[1])/60 + float(ra_0[2])/3600\n",
    "        delta = sid_h_0 - ra_h\n",
    "\n",
    "        if abs(delta) < 12:\n",
    "            delta_h = delta*u.hour\n",
    "            culm = JD - delta_h - 6*u.hour\n",
    "            culmination_time.append(culm)\n",
    "\n",
    "        elif abs(delta) > 12:\n",
    "            delta_h = (24 - abs(delta))*u.hour\n",
    "            culm = JD - delta_h - 6*u.hour\n",
    "            culmination_time.append(culm)\n",
    "\n",
    "        slew_t = slew_time(df['RA'][ind],df['DEC'][ind],df['RA'][ind-1],df['DEC'][ind-1])\n",
    "\n",
    "        if df['bin'][ind] == 1:\n",
    "            time = (df['B'][ind]*u.second + df['V'][ind]*u.second + fil_turn_near * 2 + df['R'][ind]*u.second + readout_1bin * 3) * df['n'][ind]#+ fil_turn_far\n",
    "\n",
    "        elif df['bin'][ind] == 2: \n",
    "            time = (df['B'][ind]*u.second + df['V'][ind]*u.second + fil_turn_near * 2 + df['R'][ind]*u.second  + readout_2bin * 3) * df['n'][ind]#+ fil_turn_far\n",
    "\n",
    "        elif df['bin'][ind] == 3:\n",
    "            time = (df['B'][ind]*u.second + df['V'][ind]*u.second + fil_turn_near * 2 + df['R'][ind]*u.second  + readout_3bin * 3) * df['n'][ind]#+ fil_turn_far\n",
    "\n",
    "        delta_t = time / 2\n",
    "        delta_time.append(delta_t) \n",
    "        time_observ.append(time) \n",
    "\n",
    "        start = culm - delta_t - slew_t\n",
    "        obj_start.append(start)\n",
    "\n",
    "        end = culm + delta_t\n",
    "        obj_end.append(end)\n",
    "\n",
    "    return time_observ, obj_start, obj_end, culmination_time\n",
    "\n",
    "\n",
    "def overlap_check(table):\n",
    "    \"\"\"\n",
    "    Table with objects which WILL BE observed.\n",
    "    Check if there overlap in time of obj observation.\n",
    "    Sorting by priority.\n",
    "    \"\"\"\n",
    "    prior_table = table\n",
    "    drop_ind = []\n",
    "    for ind in range(1,len(table_schedule)-1):\n",
    "        \"\"\"\n",
    "        everything is ok, observations step by step\n",
    "        \"\"\"\n",
    "        try:\n",
    "            if prior_table['start'][ind] > prior_table['end'][ind-1]:\n",
    "                continue\n",
    "\n",
    "                \"\"\"\n",
    "                overlap in time\n",
    "                \"\"\"\n",
    "            else:\n",
    "\n",
    "                \"\"\"\n",
    "                TIME SHIFT IF IND > 2\n",
    "                \"\"\"\n",
    "                if ind > 1: #we calculate ind-2\n",
    "                    delta = prior_table['start'][ind-1] - prior_table['end'][ind-2]\n",
    "\n",
    "                    if delta != 0*u.hour and delta < 2*u.hour:\n",
    "                        prior_table['start'][ind-1] = prior_table['end'][ind-2]\n",
    "                        prior_table['end'][ind-1] = prior_table['start'][ind-1] + prior_table['time_obs'][ind-1]\n",
    "                    elif delta != 0*u.hour and delta > 2*u.hour:\n",
    "                        prior_table['start'][ind-1] = prior_table['start'][ind-1] - 2*u.hour\n",
    "                        prior_table['end'][ind-1] = prior_table['start'][ind-1] + prior_table['time_obs'][ind-1]\n",
    "                        \n",
    "                    \"\"\"\n",
    "                    TIME SHIFT FOR 2D OBJECT (shift 1st object to sunset)\n",
    "                    \"\"\"\n",
    "                else: #overlap for the 2d object ind = 1\n",
    "                    delta_sunset = prior_table['start'][ind-1] - sunset_tonight\n",
    "                    if delta_sunset != 0*u.hour and delta_sunset < 2*u.hour:\n",
    "                        prior_table['start'][ind-1] = sunset_tonight\n",
    "                        prior_table['end'][ind-1] = prior_table['start'][ind-1] + prior_table['time_obs'][ind-1]\n",
    "                    elif delta_sunset != 0*u.hour and delta_sunset > 2*u.hour:\n",
    "                        prior_table['start'][ind-1] = prior_table['start'][ind-1] - 2*u.hour\n",
    "                        prior_table['end'][ind-1] = prior_table['start'][ind-1] + prior_table['time_obs'][ind-1]\n",
    "                    else:\n",
    "                        prior_table['start'][ind-1] = prior_table['start'][ind-1]\n",
    "                        prior_table['end'][ind-1] = prior_table['start'][ind-1]\n",
    "\n",
    "                    \"\"\"\n",
    "                    CHECK OVERLAP AGAIN\n",
    "                    \"\"\"        \n",
    "                if prior_table['start'][ind] > prior_table['end'][ind-1]:\n",
    "                    continue\n",
    "\n",
    "                else:\n",
    "                    overlap = prior_table['end'][ind-1] - prior_table['start'][ind]\n",
    "                    if overlap < (prior_table['time_obs'][ind]/4):\n",
    "                        prior_table['start'][ind] = prior_table['start'][ind] + overlap\n",
    "                        prior_table['end'][ind] = prior_table['end'][ind] + overlap\n",
    "                    else:\n",
    "                        m = int(prior_table['n'][ind - 1])\n",
    "                        while m > 3:\n",
    "                            m -= 1\n",
    "                            obs_time_1 = df['B'][ind-1]*u.second + df['V'][ind-1]*u.second + fil_turn_near * 2 + df['R'][ind-1]*u.second + fil_turn_far + readout_3bin * 3\n",
    "                            prior_table['end'][ind-1] = prior_table['end'][ind-1] - obs_time_1\n",
    "                            overlap_m = prior_table['end'][ind-1] - prior_table['start'][ind]\n",
    "                            #N - 1 worked\n",
    "                            if overlap_m < (prior_table['time_obs'][ind]/4):\n",
    "                                prior_table['n'][ind - 1] = m\n",
    "                                prior_table['start'][ind] = prior_table['start'][ind] + overlap_m\n",
    "                                prior_table['end'][ind] = prior_table['end'][ind] + overlap_m\n",
    "                                break\n",
    "                            #N - 1 didn't work. Repeat\n",
    "                            else:\n",
    "                                continue\n",
    "\n",
    "                        # N < 3, we can't observe less than 3 series\n",
    "                        # so we should take into accaunt priority\n",
    "                        else:\n",
    "                            \"\"\"\n",
    "                            Check percent of observation which were made\n",
    "                            \"\"\"\n",
    "                            if float(prior_table['N_obs_perc'][ind-1]) > float(prior_table['N_obs_perc'][ind]):\n",
    "                                drop_ind.append(ind)\n",
    "                            elif float(prior_table['N_obs_perc'][ind-1]) < float(prior_table['N_obs_perc'][ind]):\n",
    "                                drop_ind.append(ind-1)\n",
    "                            else:\n",
    "                                \"\"\"\n",
    "                                If percent of observation which were made is equal.\n",
    "                                Check how many night of observations we need.\n",
    "                                \"\"\"\n",
    "                                if float(prior_table['M'][ind-1]) > float(prior_table['M'][ind]):\n",
    "                                    drop_ind.append(ind)\n",
    "                                elif float(prior_table['M'][ind-1]) < float(prior_table['M'][ind]):\n",
    "                                    drop_ind.append(ind-1)\n",
    "                                else:\n",
    "                                    \"\"\"\n",
    "                                    If percent of observation which were made is equal.\n",
    "                                    If amount of neccesary observational nights is equal.\n",
    "                                    Selecting an earlier object.\n",
    "                                    \"\"\"\n",
    "                                    if float(prior_table['start'][ind-1]) > float(prior_table['start'][ind]): \n",
    "                                            drop_ind.append(ind)\n",
    "                                    elif float(prior_table['start'][ind-1]) < float(prior_table['start'][ind]):\n",
    "                                        drop_ind.append(ind-1)\n",
    "\n",
    "        except TypeError: #because we have '-' in start column of END row\n",
    "            continue\n",
    "            \n",
    "            \"\"\"\n",
    "            DROP objects, which will not observe this night\n",
    "            \"\"\"\n",
    "    prior_table = prior_table.drop(labels = drop_ind).reset_index(drop=True)\n",
    "\n",
    "    \"\"\"\n",
    "    Check if observations is duiring after sunrise\n",
    "    \"\"\"\n",
    "    if prior_table['end'].iloc[len(prior_table)-2] > sunrise_tonight:\n",
    "        slew_end_parking_overlap = slew_time(prior_table['RA_deg'].iloc[len(prior_table)-1], prior_table['DEC_deg'].iloc[len(prior_table)-1], prior_table['RA_deg'].iloc[len(prior_table)-3], prior_table['DEC_deg'].iloc[len(prior_table)-3]) \n",
    "        prior_table['end'].iloc[len(prior_table)-1] = prior_table['end'].iloc[len(prior_table)-3] + slew_end_parking_overlap\n",
    "        prior_table = prior_table.drop(labels=len(prior_table)-2, axis=0)\n",
    "        \n",
    "        \"\"\"\n",
    "        Make new table with time without date.\n",
    "        \"\"\"\n",
    "    prior_table_splitted = prior_table\n",
    "    for t in range(0,len(prior_table_splitted)-1):\n",
    "        prior_table_splitted['start'][t] = prior_table_splitted['start'][t].iso.split(\" \")[1]\n",
    "        prior_table_splitted['end'][t] = prior_table_splitted['end'][t].iso.split(\" \")[1]\n",
    "        prior_table_splitted['culmination'][t] = prior_table_splitted['culmination'][t].iso.split(\" \")[1]\n",
    "    prior_table_splitted['end'].iloc[-1] = prior_table_splitted['end'].iloc[-1].iso.split(\" \")[1]\n",
    "    \n",
    "    prior_table_splitted = prior_table_splitted.reset_index(drop=True)\n",
    "    \n",
    "    return prior_table_splitted"
   ]
  },
  {
   "cell_type": "markdown",
   "metadata": {},
   "source": [
    "## Variable part"
   ]
  },
  {
   "cell_type": "markdown",
   "metadata": {},
   "source": [
    "### Date"
   ]
  },
  {
   "cell_type": "code",
   "execution_count": null,
   "metadata": {},
   "outputs": [],
   "source": [
    "JD = Time('2021-02-19 00:00:00') #date of observations + 1 (because we need midnight)\n",
    "#if we well make observations in night between 14th and 15th of February, we should write '2022-02-15 00:00:00'"
   ]
  },
  {
   "cell_type": "markdown",
   "metadata": {},
   "source": [
    "### Import data"
   ]
  },
  {
   "cell_type": "code",
   "execution_count": null,
   "metadata": {
    "tags": []
   },
   "outputs": [],
   "source": [
    "data = read_ods('objects_example_test.ods')\n",
    "\n",
    "data['RA'] = ''*len(data)\n",
    "data['DEC'] = ''*len(data)\n",
    "data['N'] = data['n']*data['M']\n",
    "\n",
    "for ind,ra in enumerate(data['ra']):\n",
    "    dec = str(data['dec'][ind]).split(' ')\n",
    "    ra_0 = str(ra).split(' ')\n",
    "    ra_h = float(ra_0[0]) + float(ra_0[1])/60 + float(ra_0[2])/3600\n",
    "    data['RA'][ind] = ra_h * 360 / 24 #recalculate RA from hours to degrees     \n",
    "    data['DEC'][ind] = float(dec[0]) + float(dec[1])/60 + float(dec[2])/3600\n",
    "    \n",
    "data_dec = data[data['DEC'].apply(lambda x: x > -30)]\n",
    "data_dec = data_dec.reset_index(drop = True)\n",
    "\n",
    "data_dec = data_dec.sort_values('RA') #because RA connected with culmination time and in the future staeps we will need in sorted by culm time list\n",
    "\n",
    "del data"
   ]
  },
  {
   "cell_type": "markdown",
   "metadata": {
    "tags": []
   },
   "source": [
    "### Calculations"
   ]
  },
  {
   "cell_type": "code",
   "execution_count": null,
   "metadata": {
    "tags": []
   },
   "outputs": [],
   "source": [
    "#Calculate sunset, sunrise in local and local sidereal time.\n",
    "sunset_tonight, sunrise_tonight, sid_start, sid_end, time_range, sid_h_0 = sunset_rise_time(JD)\n",
    "\n",
    "#Let's make two different lists with observable targets (FixedTarget) and their name\n",
    "names,altitude = target_obs_list(sid_start, sid_end)\n",
    "\n",
    "#make table with only observable objects\n",
    "data_obs = data_dec[data_dec['name'].apply(lambda name: name in names)].reset_index(drop=True)\n",
    "data_obs['Alt'] = altitude\n",
    "#Find equatorial coordinates (RA,DEC) of telescope parking point.\n",
    "parking_alpha_deg, parking_delta_deg, parking_alpha_hms, parking_dec_dms = parking_coordinates(phi,JD)\n",
    "\n",
    "# Parking point row. We should add it take into account slew time at the beginning and end of observation \n",
    "new_row = pd.DataFrame({'name':'parking_point', 'ra':parking_alpha_deg, 'dec':parking_delta_deg, 'B':0, 'V':0, 'R':0, 'bin':1, 'n':0, 'priority':0, 'M':0, 'N_obs_perc': 0,'RA':parking_alpha_deg, 'DEC':parking_delta_deg, 'N':0, 'Alt':0 }, index =[0])\n",
    "df = pd.concat([new_row, data_obs]).reset_index(drop = True)\n",
    "\n",
    "del data_dec\n",
    "del data_obs\n",
    "\n",
    "time_observ, obj_start, obj_end, culmination_time = time_calculation(df)"
   ]
  },
  {
   "cell_type": "markdown",
   "metadata": {},
   "source": [
    "### Create a table with objects and their observing time "
   ]
  },
  {
   "cell_type": "code",
   "execution_count": null,
   "metadata": {
    "tags": []
   },
   "outputs": [],
   "source": [
    "slew_end_parking = slew_time(df['RA'].iloc[0], df['DEC'].iloc[0], df['RA'].iloc[-1], df['DEC'].iloc[-1])    \n",
    "obj_end.append((Time(obj_end[-1])+slew_end_parking))\n",
    "obj_start.append('-')\n",
    "culmination_time.append('-')\n",
    "objects = np.append(np.array(df['name'][1:].apply(lambda x: str(x).replace(u'\\xa0', u''))),'END')\n",
    "ra = np.append(np.array(df['ra'][1:].apply(lambda x: str(x).replace(u'\\xa0', u''))),parking_alpha_hms)\n",
    "dec = np.append(np.array(df['dec'][1:].apply(lambda x: str(x).replace(u'\\xa0', u''))),parking_dec_dms)\n",
    "ra_deg = np.append(np.array(df['RA'][1:].apply(lambda x: float(str(x).replace(u'\\xa0', u'')))),df['RA'].iloc[0])\n",
    "dec_deg = np.append(np.array(df['DEC'][1:].apply(lambda x: float(str(x).replace(u'\\xa0', u'')))), df['DEC'].iloc[0])\n",
    "N = np.append(np.array(df['N'][1:]), 0)\n",
    "B = np.append(np.array(df['B'][1:]), 0)\n",
    "V = np.append(np.array(df['V'][1:]), 0)                        \n",
    "R = np.append(np.array(df['R'][1:]), 0)                        \n",
    "binning = np.append(np.array(df['bin'][1:]),0)\n",
    "priority = np.append(np.array(df['priority'][1:]), 0)   \n",
    "N_obs_perc = np.append(np.array(df['N_obs_perc'][1:]), 0) \n",
    "N_obs_perc = np.append(np.array(df['N_obs_perc'][1:]), 0) \n",
    "n = np.append(np.array(df['n'][1:]), 0)\n",
    "M = np.append(np.array(df['M'][1:]), 0)\n",
    "altitude = np.append(np.array(df['Alt'][1:].apply(lambda x: round(x.value,1))), 0)\n",
    "\n",
    "time_observ.append(0*u.second)\n",
    "              \n",
    "table_schedule = pd.DataFrame({'name':objects, 'RA':ra, 'DEC':dec, 'RA_deg':ra_deg, 'DEC_deg':dec_deg, 'B':B,'V':V,'R':R, 'bin':binning, 'N':N, 'priority':priority,'start':obj_start, 'culmination':culmination_time, 'end':obj_end, 'time_obs':time_observ, 'n':n, 'Alt':altitude, 'M':M, 'N_obs_perc':N_obs_perc})\n",
    "\n",
    "del objects; del ra; del dec"
   ]
  },
  {
   "cell_type": "markdown",
   "metadata": {},
   "source": [
    "### Overlap check"
   ]
  },
  {
   "cell_type": "code",
   "execution_count": null,
   "metadata": {
    "tags": []
   },
   "outputs": [],
   "source": [
    "prior_table_spl = overlap_check(table_schedule)"
   ]
  },
  {
   "cell_type": "markdown",
   "metadata": {},
   "source": [
    "### Change priority of observed objects"
   ]
  },
  {
   "cell_type": "code",
   "execution_count": null,
   "metadata": {
    "tags": []
   },
   "outputs": [],
   "source": [
    "prior_table_spl['N_obs_perc'] = round(prior_table_spl['n']/prior_table_spl['N'],2)\n",
    "prior_table_spl['priority'] = round(prior_table_spl['priority'] - prior_table_spl['N_obs_perc'],2)"
   ]
  },
  {
   "cell_type": "markdown",
   "metadata": {},
   "source": [
    "### New table with all objects and their new priority"
   ]
  },
  {
   "cell_type": "code",
   "execution_count": null,
   "metadata": {},
   "outputs": [],
   "source": [
    "table_new = read_ods('objects_example_test.ods')"
   ]
  },
  {
   "cell_type": "code",
   "execution_count": null,
   "metadata": {
    "tags": []
   },
   "outputs": [],
   "source": [
    "counter = 0\n",
    "for j in range(0,len(prior_table_spl)):\n",
    "    for i in range(0,len(table_new)):\n",
    "        if table_new['name'].iloc[i].replace(\"\\xa0\",\"\") == prior_table_spl['name'].iloc[j]:\n",
    "            counter+=1\n",
    "            table_new['priority'].iloc[i] = prior_table_spl['priority'].iloc[j]\n",
    "            table_new['N_obs_perc'].iloc[i] = prior_table_spl['N_obs_perc'].iloc[j]"
   ]
  },
  {
   "cell_type": "markdown",
   "metadata": {
    "tags": []
   },
   "source": [
    "## tabulating in LaTeX format"
   ]
  },
  {
   "cell_type": "code",
   "execution_count": null,
   "metadata": {
    "tags": []
   },
   "outputs": [],
   "source": [
    "print(tabulate(prior_table_spl, headers=prior_table_spl.columns, tablefmt=\"latex\"))"
   ]
  },
  {
   "cell_type": "markdown",
   "metadata": {},
   "source": [
    "## Save tables"
   ]
  },
  {
   "cell_type": "code",
   "execution_count": null,
   "metadata": {},
   "outputs": [],
   "source": [
    "#Save table with plan at night\n",
    "d = JD.value.split(\" \")[0]\n",
    "\n",
    "prior_table_spl.to_excel(f'{d}_schedule.xlsx',index=False)\n",
    "#Save table with all objects\n",
    "table_new.to_excel(f'objs_new_prior.xlsx',index=False)"
   ]
  }
 ],
 "metadata": {
  "kernelspec": {
   "display_name": "Python 3",
   "language": "python",
   "name": "python3"
  },
  "language_info": {
   "codemirror_mode": {
    "name": "ipython",
    "version": 3
   },
   "file_extension": ".py",
   "mimetype": "text/x-python",
   "name": "python",
   "nbconvert_exporter": "python",
   "pygments_lexer": "ipython3",
   "version": "3.8.8"
  }
 },
 "nbformat": 4,
 "nbformat_minor": 4
}
